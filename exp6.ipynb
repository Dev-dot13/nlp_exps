{
 "cells": [
  {
   "cell_type": "code",
   "execution_count": 2,
   "id": "dbf8907b",
   "metadata": {},
   "outputs": [],
   "source": [
    "import spacy\n",
    "from sklearn.metrics import classification_report"
   ]
  },
  {
   "cell_type": "code",
   "execution_count": 4,
   "id": "4f54a9d7",
   "metadata": {},
   "outputs": [],
   "source": [
    "nlp = spacy.load(\"en_core_web_sm\")"
   ]
  },
  {
   "cell_type": "code",
   "execution_count": 7,
   "id": "911eaa28",
   "metadata": {},
   "outputs": [],
   "source": [
    "texts = [\n",
    "    \"Barack Obama was born in Hawaii.\",\n",
    "    \"Apple is planning to open a new office in Seattle.\",\n",
    "    \"Lionel Messi joined Inter Miami.\"\n",
    "]"
   ]
  },
  {
   "cell_type": "code",
   "execution_count": 6,
   "id": "0bc46830",
   "metadata": {},
   "outputs": [],
   "source": [
    "true_entities = [\n",
    "    [(\"Barack Obama\", \"PERSON\"), (\"Hawaii\", \"GPE\")],\n",
    "    [(\"Apple\", \"ORG\"), (\"Seattle\", \"GPE\")],\n",
    "    [(\"Lionel Messi\", \"PERSON\"), (\"Inter Miami\", \"ORG\")]\n",
    "]"
   ]
  },
  {
   "cell_type": "code",
   "execution_count": 12,
   "id": "2be3890e",
   "metadata": {},
   "outputs": [],
   "source": [
    "predicted_entities = []\n",
    "for doc in texts:\n",
    "    parsed = nlp(doc)\n",
    "    ents = [(ent.text, ent.label_) for ent in parsed.ents]\n",
    "    predicted_entities.append(ents)"
   ]
  },
  {
   "cell_type": "code",
   "execution_count": 9,
   "id": "cb09dd4d",
   "metadata": {},
   "outputs": [],
   "source": [
    "y_true = [label for sent in true_entities for _, label in sent]\n",
    "y_pred = [label for sent in predicted_entities for _, label in sent]"
   ]
  },
  {
   "cell_type": "code",
   "execution_count": 11,
   "id": "bd494ab3",
   "metadata": {},
   "outputs": [
    {
     "name": "stdout",
     "output_type": "stream",
     "text": [
      "Classification Report: \n",
      "\n",
      "               precision    recall  f1-score   support\n",
      "\n",
      "         GPE       1.00      1.00      1.00         2\n",
      "         LOC       0.00      0.00      0.00         0\n",
      "         ORG       1.00      0.50      0.67         2\n",
      "      PERSON       1.00      1.00      1.00         2\n",
      "\n",
      "    accuracy                           0.83         6\n",
      "   macro avg       0.75      0.62      0.67         6\n",
      "weighted avg       1.00      0.83      0.89         6\n",
      "\n"
     ]
    },
    {
     "name": "stderr",
     "output_type": "stream",
     "text": [
      "c:\\Users\\devda\\OneDrive\\Documents\\Devdatt\\practice VI sem\\nlp\\venv\\Lib\\site-packages\\sklearn\\metrics\\_classification.py:1565: UndefinedMetricWarning: Recall is ill-defined and being set to 0.0 in labels with no true samples. Use `zero_division` parameter to control this behavior.\n",
      "  _warn_prf(average, modifier, f\"{metric.capitalize()} is\", len(result))\n",
      "c:\\Users\\devda\\OneDrive\\Documents\\Devdatt\\practice VI sem\\nlp\\venv\\Lib\\site-packages\\sklearn\\metrics\\_classification.py:1565: UndefinedMetricWarning: Recall is ill-defined and being set to 0.0 in labels with no true samples. Use `zero_division` parameter to control this behavior.\n",
      "  _warn_prf(average, modifier, f\"{metric.capitalize()} is\", len(result))\n",
      "c:\\Users\\devda\\OneDrive\\Documents\\Devdatt\\practice VI sem\\nlp\\venv\\Lib\\site-packages\\sklearn\\metrics\\_classification.py:1565: UndefinedMetricWarning: Recall is ill-defined and being set to 0.0 in labels with no true samples. Use `zero_division` parameter to control this behavior.\n",
      "  _warn_prf(average, modifier, f\"{metric.capitalize()} is\", len(result))\n"
     ]
    }
   ],
   "source": [
    "print(\"Classification Report: \\n\\n\", classification_report(y_true, y_pred))"
   ]
  },
  {
   "cell_type": "code",
   "execution_count": null,
   "id": "b296a8d3",
   "metadata": {},
   "outputs": [],
   "source": []
  }
 ],
 "metadata": {
  "kernelspec": {
   "display_name": "venv",
   "language": "python",
   "name": "python3"
  },
  "language_info": {
   "codemirror_mode": {
    "name": "ipython",
    "version": 3
   },
   "file_extension": ".py",
   "mimetype": "text/x-python",
   "name": "python",
   "nbconvert_exporter": "python",
   "pygments_lexer": "ipython3",
   "version": "3.12.5"
  }
 },
 "nbformat": 4,
 "nbformat_minor": 5
}
