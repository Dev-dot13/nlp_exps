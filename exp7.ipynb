{
 "cells": [
  {
   "cell_type": "code",
   "execution_count": 22,
   "id": "0737c9c3",
   "metadata": {},
   "outputs": [],
   "source": [
    "import spacy"
   ]
  },
  {
   "cell_type": "code",
   "execution_count": 23,
   "id": "44da4435",
   "metadata": {},
   "outputs": [],
   "source": [
    "text = \"Barack Obama was born in Hawaii and was the president of the United States.\""
   ]
  },
  {
   "cell_type": "code",
   "execution_count": 24,
   "id": "d781c203",
   "metadata": {},
   "outputs": [],
   "source": [
    "nlp = spacy.load(\"en_core_web_sm\")"
   ]
  },
  {
   "cell_type": "code",
   "execution_count": 25,
   "id": "6b7fa657",
   "metadata": {},
   "outputs": [],
   "source": [
    "doc = nlp(text)"
   ]
  },
  {
   "cell_type": "code",
   "execution_count": null,
   "id": "3bf66a2a",
   "metadata": {},
   "outputs": [
    {
     "name": "stdout",
     "output_type": "stream",
     "text": [
      "Barack --> PROPN\n",
      "Obama --> PROPN\n",
      "was --> AUX\n",
      "born --> VERB\n",
      "in --> ADP\n",
      "Hawaii --> PROPN\n",
      "and --> CCONJ\n",
      "was --> AUX\n",
      "the --> DET\n",
      "president --> NOUN\n",
      "of --> ADP\n",
      "the --> DET\n",
      "United --> PROPN\n",
      "States --> PROPN\n",
      ". --> PUNCT\n"
     ]
    }
   ],
   "source": [
    "# exp3:\n",
    "\n",
    "for i in doc:\n",
    "    print(f\"{i.text} --> {i.pos_}\")"
   ]
  },
  {
   "cell_type": "code",
   "execution_count": null,
   "id": "02c967bb",
   "metadata": {},
   "outputs": [
    {
     "name": "stdout",
     "output_type": "stream",
     "text": [
      "Barack Obama --> PERSON\n",
      "Hawaii --> GPE\n",
      "the United States --> GPE\n"
     ]
    }
   ],
   "source": [
    "# exp7:\n",
    "\n",
    "for i in doc.ents:\n",
    "    print(f\"{i.text} --> {i.label_}\")"
   ]
  },
  {
   "cell_type": "code",
   "execution_count": null,
   "id": "47d10dfc",
   "metadata": {},
   "outputs": [],
   "source": []
  }
 ],
 "metadata": {
  "kernelspec": {
   "display_name": "venv",
   "language": "python",
   "name": "python3"
  },
  "language_info": {
   "codemirror_mode": {
    "name": "ipython",
    "version": 3
   },
   "file_extension": ".py",
   "mimetype": "text/x-python",
   "name": "python",
   "nbconvert_exporter": "python",
   "pygments_lexer": "ipython3",
   "version": "3.12.5"
  }
 },
 "nbformat": 4,
 "nbformat_minor": 5
}
