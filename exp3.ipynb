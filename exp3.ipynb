{
 "cells": [
  {
   "cell_type": "code",
   "execution_count": 8,
   "id": "9a2a1910-1b59-4bd6-aef9-f4de3dc5d690",
   "metadata": {},
   "outputs": [
    {
     "name": "stdout",
     "output_type": "stream",
     "text": [
      "Xio: PROPN\n",
      "drapped: VERB\n",
      "a: DET\n",
      "simple: ADJ\n",
      "raincoat: NOUN\n",
      "lined: VERB\n",
      "with: ADP\n",
      "tree: NOUN\n",
      "sap: VERB\n",
      "over: ADP\n",
      "her: PRON\n",
      "and: CCONJ\n",
      "hid: VERB\n",
      "in: ADP\n",
      "shadows: NOUN\n",
      ".: PUNCT\n"
     ]
    }
   ],
   "source": [
    "import spacy\n",
    "\n",
    "nlp = spacy.load(\"en_core_web_sm\")\n",
    "text = \"Xio drapped a simple raincoat lined with tree sap over her and hid in shadows.\"\n",
    "doc = nlp(text)\n",
    "for i in doc:\n",
    "    print(f\"{i.text}: {i.pos_}\")"
   ]
  },
  {
   "cell_type": "code",
   "execution_count": null,
   "id": "2df7ff3c",
   "metadata": {},
   "outputs": [],
   "source": []
  }
 ],
 "metadata": {
  "kernelspec": {
   "display_name": "venv",
   "language": "python",
   "name": "python3"
  },
  "language_info": {
   "codemirror_mode": {
    "name": "ipython",
    "version": 3
   },
   "file_extension": ".py",
   "mimetype": "text/x-python",
   "name": "python",
   "nbconvert_exporter": "python",
   "pygments_lexer": "ipython3",
   "version": "3.12.5"
  }
 },
 "nbformat": 4,
 "nbformat_minor": 5
}
