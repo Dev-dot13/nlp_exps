{
 "cells": [
  {
   "cell_type": "code",
   "execution_count": 5,
   "id": "8f94a44a",
   "metadata": {},
   "outputs": [
    {
     "name": "stdout",
     "output_type": "stream",
     "text": [
      "('I',) -> ['love']\n",
      "('love',) -> ['natural']\n",
      "('natural',) -> ['language']\n",
      "('language',) -> ['processing']\n"
     ]
    }
   ],
   "source": [
    "from collections import defaultdict\n",
    "\n",
    "# Step 1: Sample text\n",
    "text = \"I love natural language processing\"\n",
    "\n",
    "# Step 2: Tokenize\n",
    "tokens = text.split()\n",
    "\n",
    "# Step 3: Build N-grams (here, bigrams)\n",
    "n = 2\n",
    "ngrams = defaultdict(list)\n",
    "\n",
    "for i in range(len(tokens) - n + 1):\n",
    "    prefix = tuple(tokens[i:i+n-1])\n",
    "    next_word = tokens[i+n-1]\n",
    "    ngrams[prefix].append(next_word)\n",
    "\n",
    "# Step 4: Display N-grams\n",
    "for prefix, next_words in ngrams.items():\n",
    "    print(f\"{prefix} -> {next_words}\")\n"
   ]
  },
  {
   "cell_type": "code",
   "execution_count": null,
   "id": "fa5f624c",
   "metadata": {},
   "outputs": [],
   "source": []
  }
 ],
 "metadata": {
  "kernelspec": {
   "display_name": "venv",
   "language": "python",
   "name": "python3"
  },
  "language_info": {
   "codemirror_mode": {
    "name": "ipython",
    "version": 3
   },
   "file_extension": ".py",
   "mimetype": "text/x-python",
   "name": "python",
   "nbconvert_exporter": "python",
   "pygments_lexer": "ipython3",
   "version": "3.12.5"
  }
 },
 "nbformat": 4,
 "nbformat_minor": 5
}
