{
 "cells": [
  {
   "cell_type": "code",
   "execution_count": 24,
   "id": "45446511",
   "metadata": {},
   "outputs": [
    {
     "name": "stdout",
     "output_type": "stream",
     "text": [
      "Semantic similarity between 'dog' and 'cat':  0.8571428571428571\n"
     ]
    },
    {
     "name": "stderr",
     "output_type": "stream",
     "text": [
      "[nltk_data] Downloading package wordnet to\n",
      "[nltk_data]     C:\\Users\\devda\\AppData\\Roaming\\nltk_data...\n",
      "[nltk_data]   Package wordnet is already up-to-date!\n"
     ]
    }
   ],
   "source": [
    "import nltk\n",
    "nltk.download('wordnet')\n",
    "from nltk.corpus import wordnet\n",
    "\n",
    "# Step 1: Two sample words\n",
    "word1 = \"dog\"\n",
    "word2 = \"cat\"\n",
    "\n",
    "# Step 2: Get synsets (meanings) of each word\n",
    "synsets1 = wordnet.synsets(word1)\n",
    "synsets2 = wordnet.synsets(word2)\n",
    "\n",
    "# Step 3: Pick the first meaning of each\n",
    "syn1 = synsets1[0]\n",
    "syn2 = synsets2[0]\n",
    "\n",
    "# Step 4: Find semantic similarity\n",
    "similarity = syn1.wup_similarity(syn2)  # Wu-Palmer Similarity\n",
    "\n",
    "print(f\"Semantic similarity between '{word1}' and '{word2}': \", similarity)"
   ]
  },
  {
   "cell_type": "code",
   "execution_count": null,
   "id": "61590952",
   "metadata": {},
   "outputs": [],
   "source": []
  }
 ],
 "metadata": {
  "kernelspec": {
   "display_name": "venv",
   "language": "python",
   "name": "python3"
  },
  "language_info": {
   "codemirror_mode": {
    "name": "ipython",
    "version": 3
   },
   "file_extension": ".py",
   "mimetype": "text/x-python",
   "name": "python",
   "nbconvert_exporter": "python",
   "pygments_lexer": "ipython3",
   "version": "3.12.5"
  }
 },
 "nbformat": 4,
 "nbformat_minor": 5
}
