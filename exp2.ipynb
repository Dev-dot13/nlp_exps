{
 "cells": [
  {
   "cell_type": "code",
   "execution_count": 1,
   "id": "a6872a42-9a1e-468c-983f-2299e6be3d0c",
   "metadata": {},
   "outputs": [],
   "source": [
    "import pandas as pd"
   ]
  },
  {
   "cell_type": "code",
   "execution_count": 2,
   "id": "48e9eabd-03eb-4a93-ad33-f46d44cfed40",
   "metadata": {},
   "outputs": [],
   "source": [
    "data = {\n",
    "    \"Base Word\": [\"play\", \"happy\", \"work\", \"cat\", \"un\", \"boy\"],\n",
    "    \"Added Morpheme\": [\"-ed\", \"-ness\", \"-er\", \"-s\", \"-do\", \"-ish\"],\n",
    "    \"New Word (After Addition)\": [\"played\", \"happiness\", \"worker\", \"cats\", \"undo\", \"boyish\"],\n",
    "    \"Deleted Morpheme\": [\"-\", \"-\", \"-\", \"-s\", \"-\", \"-\"],\n",
    "    \"New Word (After Deletion)\": [\"played\", \"happiness\", \"worker\", \"cat\", \"undo\", \"boyish\"]\n",
    "}"
   ]
  },
  {
   "cell_type": "code",
   "execution_count": 4,
   "id": "cae9d50e-c535-4d58-8c89-f11a2432a0fd",
   "metadata": {},
   "outputs": [
    {
     "data": {
      "text/html": [
       "<div>\n",
       "<style scoped>\n",
       "    .dataframe tbody tr th:only-of-type {\n",
       "        vertical-align: middle;\n",
       "    }\n",
       "\n",
       "    .dataframe tbody tr th {\n",
       "        vertical-align: top;\n",
       "    }\n",
       "\n",
       "    .dataframe thead th {\n",
       "        text-align: right;\n",
       "    }\n",
       "</style>\n",
       "<table border=\"1\" class=\"dataframe\">\n",
       "  <thead>\n",
       "    <tr style=\"text-align: right;\">\n",
       "      <th></th>\n",
       "      <th>Base Word</th>\n",
       "      <th>Added Morpheme</th>\n",
       "      <th>New Word (After Addition)</th>\n",
       "      <th>Deleted Morpheme</th>\n",
       "      <th>New Word (After Deletion)</th>\n",
       "    </tr>\n",
       "  </thead>\n",
       "  <tbody>\n",
       "    <tr>\n",
       "      <th>0</th>\n",
       "      <td>play</td>\n",
       "      <td>-ed</td>\n",
       "      <td>played</td>\n",
       "      <td>-</td>\n",
       "      <td>played</td>\n",
       "    </tr>\n",
       "    <tr>\n",
       "      <th>1</th>\n",
       "      <td>happy</td>\n",
       "      <td>-ness</td>\n",
       "      <td>happiness</td>\n",
       "      <td>-</td>\n",
       "      <td>happiness</td>\n",
       "    </tr>\n",
       "    <tr>\n",
       "      <th>2</th>\n",
       "      <td>work</td>\n",
       "      <td>-er</td>\n",
       "      <td>worker</td>\n",
       "      <td>-</td>\n",
       "      <td>worker</td>\n",
       "    </tr>\n",
       "    <tr>\n",
       "      <th>3</th>\n",
       "      <td>cat</td>\n",
       "      <td>-s</td>\n",
       "      <td>cats</td>\n",
       "      <td>-s</td>\n",
       "      <td>cat</td>\n",
       "    </tr>\n",
       "    <tr>\n",
       "      <th>4</th>\n",
       "      <td>un</td>\n",
       "      <td>-do</td>\n",
       "      <td>undo</td>\n",
       "      <td>-</td>\n",
       "      <td>undo</td>\n",
       "    </tr>\n",
       "    <tr>\n",
       "      <th>5</th>\n",
       "      <td>boy</td>\n",
       "      <td>-ish</td>\n",
       "      <td>boyish</td>\n",
       "      <td>-</td>\n",
       "      <td>boyish</td>\n",
       "    </tr>\n",
       "  </tbody>\n",
       "</table>\n",
       "</div>"
      ],
      "text/plain": [
       "  Base Word Added Morpheme New Word (After Addition) Deleted Morpheme  \\\n",
       "0      play            -ed                    played                -   \n",
       "1     happy          -ness                 happiness                -   \n",
       "2      work            -er                    worker                -   \n",
       "3       cat             -s                      cats               -s   \n",
       "4        un            -do                      undo                -   \n",
       "5       boy           -ish                    boyish                -   \n",
       "\n",
       "  New Word (After Deletion)  \n",
       "0                    played  \n",
       "1                 happiness  \n",
       "2                    worker  \n",
       "3                       cat  \n",
       "4                      undo  \n",
       "5                    boyish  "
      ]
     },
     "execution_count": 4,
     "metadata": {},
     "output_type": "execute_result"
    }
   ],
   "source": [
    "df = pd.DataFrame(data)\n",
    "df"
   ]
  },
  {
   "cell_type": "code",
   "execution_count": null,
   "id": "d2b89538-e1d8-4d12-8cb2-071563b29164",
   "metadata": {},
   "outputs": [],
   "source": []
  }
 ],
 "metadata": {
  "kernelspec": {
   "display_name": "Python 3 (ipykernel)",
   "language": "python",
   "name": "python3"
  },
  "language_info": {
   "codemirror_mode": {
    "name": "ipython",
    "version": 3
   },
   "file_extension": ".py",
   "mimetype": "text/x-python",
   "name": "python",
   "nbconvert_exporter": "python",
   "pygments_lexer": "ipython3",
   "version": "3.12.5"
  }
 },
 "nbformat": 4,
 "nbformat_minor": 5
}
